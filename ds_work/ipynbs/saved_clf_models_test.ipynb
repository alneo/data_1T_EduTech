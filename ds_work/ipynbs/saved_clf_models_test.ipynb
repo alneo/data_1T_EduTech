{
 "cells": [
  {
   "cell_type": "markdown",
   "id": "af62a8ae-9452-4b47-ac0e-99084a865f9d",
   "metadata": {},
   "source": [
    "## Задаём функцию прогнозирования прогресса по курсу по конкретному пользователю за нужную нам неделю"
   ]
  },
  {
   "cell_type": "code",
   "execution_count": 11,
   "id": "4e92b6a8-7046-4441-b3d3-0acf5f95cfd8",
   "metadata": {
    "tags": []
   },
   "outputs": [],
   "source": [
    "import joblib\n",
    "import pandas as pd\n",
    "\n",
    "def predict_for_user(week, user_id):\n",
    "    try:\n",
    "        # Загружаем модель для указанной недели\n",
    "        model = joblib.load(f'./saved_clf_models/gb_model_week_{week}.joblib')\n",
    "        \n",
    "        # Инициализируем переменную для хранения данных\n",
    "        data = None\n",
    "        \n",
    "        # Сначала пытаемся загрузить данные из валидационного набора\n",
    "        try:\n",
    "            data = pd.read_csv(f'./saved_datasets/val_week_{week}.csv')\n",
    "            print(f\"Data for validation week {week} loaded successfully.\")\n",
    "            data_source = \"validation\"\n",
    "        except FileNotFoundError:\n",
    "            # Если данные для валидации отсутствуют, загружаем обучающий набор\n",
    "            data = pd.read_csv(f'./saved_datasets/train_week_{week}.csv')\n",
    "            print(f\"Validation data not found. Using training data for week {week}.\")\n",
    "            data_source = \"training\"\n",
    "\n",
    "        # Фильтруем данные по user_id\n",
    "        user_data = data[data['user_id'] == user_id]\n",
    "        \n",
    "        # Проверяем наличие пользователя в загруженной выборке\n",
    "        if user_data.empty:\n",
    "            if data_source == \"validation\":\n",
    "                print(f\"No data found for user_id {user_id} in validation dataset. Checking training dataset.\")\n",
    "                # Загружаем обучающий набор и ищем пользователя там\n",
    "                data = pd.read_csv(f'./saved_datasets/train_week_{week}.csv')\n",
    "                user_data = data[data['user_id'] == user_id]\n",
    "            \n",
    "            # Проверяем еще раз после загрузки обучающего набора\n",
    "            if user_data.empty:\n",
    "                print(f\"No data found for user_id {user_id} in both datasets.\")\n",
    "                return None\n",
    "            \n",
    "            print(f\"User_id {user_id} found in the training dataset for week {week}.\")\n",
    "        \n",
    "        else:\n",
    "            print(f\"User_id {user_id} found in the validation dataset for week {week}.\")\n",
    "\n",
    "        # Проверка наличия целевого признака\n",
    "        if 'm2_success' not in user_data.columns:\n",
    "            print(\"Column 'm2_success' is missing from the dataset.\")\n",
    "            return None\n",
    "\n",
    "        # Получаем реальное значение целевого признака\n",
    "        actual_value = user_data['m2_success'].values[0]\n",
    "\n",
    "        # Выводим статус окончания курса в зависимости от значения m2_success\n",
    "        if actual_value == 1:\n",
    "            print(f\"Реальный статус окончания курса для пользователя {user_id}: окончил успешно.\")\n",
    "        else:\n",
    "            print(f\"Реальный статус окончания курса для пользователя {user_id}: не окончил.\")\n",
    "\n",
    "        # Подготовка данных для предсказания\n",
    "        X_user = user_data.drop(['m2_success'], axis=1)\n",
    "        \n",
    "        # Получаем список признаков из обучающей модели\n",
    "        train_features = model.feature_names_in_\n",
    "        \n",
    "        # Проверяем наличие необходимых признаков\n",
    "        missing_features = set(train_features) - set(X_user.columns)\n",
    "        if missing_features:\n",
    "            print(f\"Week {week} is missing features: {missing_features}\")\n",
    "            return None  # Прерываем выполнение, если есть недостающие признаки\n",
    "        \n",
    "        # Заполняем отсутствующие признаки значениями по умолчанию\n",
    "        for feature in train_features:\n",
    "            if feature not in X_user.columns:\n",
    "                X_user[feature] = 0\n",
    "        \n",
    "        # Убедитесь, что порядок признаков соответствует обучающим данным\n",
    "        X_user = X_user[train_features]\n",
    "        \n",
    "        # Формируем предсказания модели (вероятности)\n",
    "        y_pred_proba = model.predict_proba(X_user)\n",
    "\n",
    "        # Предполагаем, что второй столбец содержит вероятность успешного завершения курса\n",
    "        success_probability = y_pred_proba[0][1] * 100  # Преобразуем в проценты\n",
    "        \n",
    "        # Выводим вероятность завершения курса в процентах\n",
    "        print(f\"Вероятность завершения курса для пользователя {user_id} на {week} неделе: {success_probability:.2f}%\")\n",
    "        \n",
    "        return success_probability  # Возвращаем вероятность завершения курса\n",
    "    \n",
    "    except FileNotFoundError as e:\n",
    "        print(f\"File not found: {e}\")\n",
    "    except KeyError as e:\n",
    "        print(f\"KeyError for week {week}: {e}\")\n",
    "    except ValueError as e:\n",
    "        print(f\"ValueError for week {week}: {e}\")\n",
    "    except Exception as e:\n",
    "        print(f\"An unexpected error occurred: {e}\")"
   ]
  },
  {
   "cell_type": "markdown",
   "id": "1e978ce5-4c30-4793-a249-75ed10dc096a",
   "metadata": {},
   "source": [
    "## Вводим номер недели и user_id, на выходе получаем результат прогнозирования прогресса по курсу"
   ]
  },
  {
   "cell_type": "code",
   "execution_count": 12,
   "id": "214e1231-fba5-4397-870c-4d9112a9e6b0",
   "metadata": {
    "tags": []
   },
   "outputs": [
    {
     "name": "stdout",
     "output_type": "stream",
     "text": [
      "Data for validation week 7 loaded successfully.\n",
      "User_id 3914 found in the validation dataset for week 7.\n",
      "Реальный статус окончания курса для пользователя 3914: окончил успешно.\n",
      "Вероятность завершения курса для пользователя 3914 на 7 неделе: 87.09%\n"
     ]
    }
   ],
   "source": [
    "# Тестирование на данных\n",
    "week_number = 7  # Номер недели\n",
    "user_id_to_predict = 3914  # Замените на нужный user_id\n",
    "\n",
    "# Вызов функции для предсказания\n",
    "prediction = predict_for_user(week_number, user_id_to_predict)"
   ]
  }
 ],
 "metadata": {
  "kernelspec": {
   "display_name": "Python 3 (ipykernel)",
   "language": "python",
   "name": "python3"
  },
  "language_info": {
   "codemirror_mode": {
    "name": "ipython",
    "version": 3
   },
   "file_extension": ".py",
   "mimetype": "text/x-python",
   "name": "python",
   "nbconvert_exporter": "python",
   "pygments_lexer": "ipython3",
   "version": "3.10.12"
  }
 },
 "nbformat": 4,
 "nbformat_minor": 5
}
